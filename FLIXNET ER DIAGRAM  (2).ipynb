{
 "cells": [
  {
   "cell_type": "markdown",
   "metadata": {},
   "source": [
    "Entities: \n",
    "\n",
    "For our Flixnet database, we have categorized the data into 5 different entities. These entities are: Actors, Movie, TV, Users, and DVDs."
   ]
  },
  {
   "cell_type": "markdown",
   "metadata": {},
   "source": [
    "Attributes:\n",
    "\n",
    "Each of our 5 entities is then further categorized by 3-7 different attributes. Primary keys are used as a unique identifier within each entity. In addition, none of our entities contain foreign keys due to the fact that none of them share a primary key as an attribute. The numerous attributes within our database will help our team get a better understanding of our clientele. The more information we can gather on user preference, the more accurately we will be able to determine what they may want to watch or rent in the future."
   ]
  },
  {
   "cell_type": "markdown",
   "metadata": {},
   "source": [
    "Relationships:\n",
    "\n",
    "The attributes between the different entities are connected through relationships. For example, Actors and TV shows represent a many-to-many relationship because there are a plethora of actors within all the TV shows in the Flixnet database. In addition, TV and Users maintain a many-to-many relationship as well due to the fact that all individuals using our database have the option of choosing any TV show they wish, and Flixnet has many different options to choose from. Users and DVDs have a one-to-many relationship because a single user has the option of renting as many DVDs as they wish to at a given time. Actors and Movies have a many-to-many relationship as well because there are countless actors featured in the multitude of movies within the Flixnet database. Lastly, the entities Users and Movies are connected through a one-to-many relationship because a single user has the option of choosing whichever movie they desire within Flixnet. "
   ]
  },
  {
   "cell_type": "markdown",
   "metadata": {},
   "source": [
    "![ER DIAGRAM](https://github.com/rachelwasserman/GROUP1_ERDIAGRAM_ASSIGNMENT2/blob/master/group1projectpart2-2.png?raw=true)"
   ]
  }
 ],
 "metadata": {
  "kernelspec": {
   "display_name": "Python 3",
   "language": "python",
   "name": "python3"
  },
  "language_info": {
   "codemirror_mode": {
    "name": "ipython",
    "version": 3
   },
   "file_extension": ".py",
   "mimetype": "text/x-python",
   "name": "python",
   "nbconvert_exporter": "python",
   "pygments_lexer": "ipython3",
   "version": "3.7.3"
  }
 },
 "nbformat": 4,
 "nbformat_minor": 2
}
